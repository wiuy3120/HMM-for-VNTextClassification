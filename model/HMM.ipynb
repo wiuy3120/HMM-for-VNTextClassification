{
 "cells": [
  {
   "cell_type": "markdown",
   "metadata": {},
   "source": [
    "# Import thư viện"
   ]
  },
  {
   "cell_type": "code",
   "execution_count": 1,
   "metadata": {},
   "outputs": [],
   "source": [
    "%matplotlib inline\n",
    "import matplotlib.pyplot as plt\n",
    "import seaborn as sns # seaborn là thư viện được xây trên matplotlib, giúp việc visualization đỡ khổ hơn\n",
    "import requests\n",
    "import numpy as np\n",
    "import pandas as pd\n",
    "import time # để sleep chương trình\n",
    "from bs4 import BeautifulSoup\n",
    "from pyvi import ViTokenizer # thư viện NLP tiếng Việt\n",
    "from sklearn.feature_extraction.text import TfidfVectorizer\n",
    "from sklearn.model_selection import train_test_split\n",
    "from sklearn.preprocessing import LabelEncoder\n",
    "from sklearn.metrics import accuracy_score\n",
    "from sklearn.pipeline import Pipeline\n",
    "#Mô hình phân lớp\n",
    "from sklearn.naive_bayes import MultinomialNB\n",
    "from sklearn.base import BaseEstimator, TransformerMixin, ClassifierMixin\n",
    "import logging\n",
    "import math"
   ]
  },
  {
   "cell_type": "markdown",
   "metadata": {},
   "source": [
    "---"
   ]
  },
  {
   "cell_type": "markdown",
   "metadata": {},
   "source": [
    "# Đọc dữ liệu"
   ]
  },
  {
   "cell_type": "markdown",
   "metadata": {},
   "source": [
    "Hàm `ngram_word` ở bên dưới có input:\n",
    "- `articles`: là một dictionary với key là chủ đề bài báo, value: là một list nội dung các bài báo trong chủ đề đó.\n",
    "\n",
    "Output: Trả về biến `articles` sau khi đã tách các từ trong văn bản"
   ]
  },
  {
   "cell_type": "code",
   "execution_count": 2,
   "metadata": {},
   "outputs": [],
   "source": [
    "def ngram_word(df):\n",
    "    for i in range(len(df['Nội dung văn bản'])):\n",
    "        df['Nội dung văn bản'][i] =  ViTokenizer.tokenize(df['Nội dung văn bản'][i])\n",
    "    return df"
   ]
  },
  {
   "cell_type": "markdown",
   "metadata": {},
   "source": [
    "Đầu tiên ta sẽ lấy dữ liệu đã thu thập được từ file `data.csv`"
   ]
  },
  {
   "cell_type": "code",
   "execution_count": 3,
   "metadata": {},
   "outputs": [],
   "source": [
    "data_df = pd.read_csv('data.txt')\n",
    "# temp = data_df[(data_df[\"Chủ đề\"] != \"kinh-doanh\") & ((data_df[\"Chủ đề\"] != \"the-gioi\"))]\n",
    "# temp.to_csv(\"data.txt\", index= False)"
   ]
  },
  {
   "cell_type": "code",
   "execution_count": 4,
   "metadata": {},
   "outputs": [
    {
     "data": {
      "text/html": [
       "<div>\n",
       "<style scoped>\n",
       "    .dataframe tbody tr th:only-of-type {\n",
       "        vertical-align: middle;\n",
       "    }\n",
       "\n",
       "    .dataframe tbody tr th {\n",
       "        vertical-align: top;\n",
       "    }\n",
       "\n",
       "    .dataframe thead th {\n",
       "        text-align: right;\n",
       "    }\n",
       "</style>\n",
       "<table border=\"1\" class=\"dataframe\">\n",
       "  <thead>\n",
       "    <tr style=\"text-align: right;\">\n",
       "      <th></th>\n",
       "      <th>Nội dung văn bản</th>\n",
       "      <th>Chủ đề</th>\n",
       "    </tr>\n",
       "  </thead>\n",
       "  <tbody>\n",
       "    <tr>\n",
       "      <th>0</th>\n",
       "      <td>Bắn thuốc mê di dời đàn khỉ trong khu dân cư...</td>\n",
       "      <td>thoi-su</td>\n",
       "    </tr>\n",
       "    <tr>\n",
       "      <th>1</th>\n",
       "      <td>Lớp học bằng ván gỗ cũ nát ở vùng cao Lạng S...</td>\n",
       "      <td>thoi-su</td>\n",
       "    </tr>\n",
       "    <tr>\n",
       "      <th>2</th>\n",
       "      <td></td>\n",
       "      <td>thoi-su</td>\n",
       "    </tr>\n",
       "    <tr>\n",
       "      <th>3</th>\n",
       "      <td>Sài Gòn xuống 19 độ C Ảnh hưởng không khí lạ...</td>\n",
       "      <td>thoi-su</td>\n",
       "    </tr>\n",
       "    <tr>\n",
       "      <th>4</th>\n",
       "      <td></td>\n",
       "      <td>thoi-su</td>\n",
       "    </tr>\n",
       "    <tr>\n",
       "      <th>...</th>\n",
       "      <td>...</td>\n",
       "      <td>...</td>\n",
       "    </tr>\n",
       "    <tr>\n",
       "      <th>1832</th>\n",
       "      <td>Lễ hội áo dài sắp diễn ra bên bờ sông Hương ...</td>\n",
       "      <td>du-lich</td>\n",
       "    </tr>\n",
       "    <tr>\n",
       "      <th>1833</th>\n",
       "      <td>Trên máy bay không phải chỗ nào cũng cho trẻ...</td>\n",
       "      <td>du-lich</td>\n",
       "    </tr>\n",
       "    <tr>\n",
       "      <th>1834</th>\n",
       "      <td>Cắm trại đón Giáng sinh trong sân bay Singap...</td>\n",
       "      <td>du-lich</td>\n",
       "    </tr>\n",
       "    <tr>\n",
       "      <th>1835</th>\n",
       "      <td>Saigontourist Group khuyến mại lớn dịp Giáng...</td>\n",
       "      <td>du-lich</td>\n",
       "    </tr>\n",
       "    <tr>\n",
       "      <th>1836</th>\n",
       "      <td>Lợi ích khi là khách hàng thân thiết của côn...</td>\n",
       "      <td>du-lich</td>\n",
       "    </tr>\n",
       "  </tbody>\n",
       "</table>\n",
       "<p>1837 rows × 2 columns</p>\n",
       "</div>"
      ],
      "text/plain": [
       "                                       Nội dung văn bản   Chủ đề\n",
       "0       Bắn thuốc mê di dời đàn khỉ trong khu dân cư...  thoi-su\n",
       "1       Lớp học bằng ván gỗ cũ nát ở vùng cao Lạng S...  thoi-su\n",
       "2                                                        thoi-su\n",
       "3       Sài Gòn xuống 19 độ C Ảnh hưởng không khí lạ...  thoi-su\n",
       "4                                                        thoi-su\n",
       "...                                                 ...      ...\n",
       "1832    Lễ hội áo dài sắp diễn ra bên bờ sông Hương ...  du-lich\n",
       "1833    Trên máy bay không phải chỗ nào cũng cho trẻ...  du-lich\n",
       "1834    Cắm trại đón Giáng sinh trong sân bay Singap...  du-lich\n",
       "1835    Saigontourist Group khuyến mại lớn dịp Giáng...  du-lich\n",
       "1836    Lợi ích khi là khách hàng thân thiết của côn...  du-lich\n",
       "\n",
       "[1837 rows x 2 columns]"
      ]
     },
     "execution_count": 4,
     "metadata": {},
     "output_type": "execute_result"
    }
   ],
   "source": [
    "data_df"
   ]
  },
  {
   "cell_type": "markdown",
   "metadata": {},
   "source": [
    "---"
   ]
  },
  {
   "cell_type": "markdown",
   "metadata": {},
   "source": [
    "# Khám phá dữ liệu"
   ]
  },
  {
   "cell_type": "code",
   "execution_count": 5,
   "metadata": {
    "scrolled": true
   },
   "outputs": [
    {
     "data": {
      "text/html": [
       "<div>\n",
       "<style scoped>\n",
       "    .dataframe tbody tr th:only-of-type {\n",
       "        vertical-align: middle;\n",
       "    }\n",
       "\n",
       "    .dataframe tbody tr th {\n",
       "        vertical-align: top;\n",
       "    }\n",
       "\n",
       "    .dataframe thead th {\n",
       "        text-align: right;\n",
       "    }\n",
       "</style>\n",
       "<table border=\"1\" class=\"dataframe\">\n",
       "  <thead>\n",
       "    <tr style=\"text-align: right;\">\n",
       "      <th></th>\n",
       "      <th>Nội dung văn bản</th>\n",
       "      <th>Chủ đề</th>\n",
       "    </tr>\n",
       "  </thead>\n",
       "  <tbody>\n",
       "    <tr>\n",
       "      <th>0</th>\n",
       "      <td>Bắn thuốc mê di dời đàn khỉ trong khu dân cư...</td>\n",
       "      <td>thoi-su</td>\n",
       "    </tr>\n",
       "    <tr>\n",
       "      <th>1</th>\n",
       "      <td>Lớp học bằng ván gỗ cũ nát ở vùng cao Lạng S...</td>\n",
       "      <td>thoi-su</td>\n",
       "    </tr>\n",
       "    <tr>\n",
       "      <th>2</th>\n",
       "      <td></td>\n",
       "      <td>thoi-su</td>\n",
       "    </tr>\n",
       "    <tr>\n",
       "      <th>3</th>\n",
       "      <td>Sài Gòn xuống 19 độ C Ảnh hưởng không khí lạ...</td>\n",
       "      <td>thoi-su</td>\n",
       "    </tr>\n",
       "    <tr>\n",
       "      <th>4</th>\n",
       "      <td></td>\n",
       "      <td>thoi-su</td>\n",
       "    </tr>\n",
       "  </tbody>\n",
       "</table>\n",
       "</div>"
      ],
      "text/plain": [
       "                                    Nội dung văn bản   Chủ đề\n",
       "0    Bắn thuốc mê di dời đàn khỉ trong khu dân cư...  thoi-su\n",
       "1    Lớp học bằng ván gỗ cũ nát ở vùng cao Lạng S...  thoi-su\n",
       "2                                                     thoi-su\n",
       "3    Sài Gòn xuống 19 độ C Ảnh hưởng không khí lạ...  thoi-su\n",
       "4                                                     thoi-su"
      ]
     },
     "execution_count": 5,
     "metadata": {},
     "output_type": "execute_result"
    }
   ],
   "source": [
    "data_df.head()"
   ]
  },
  {
   "cell_type": "markdown",
   "metadata": {},
   "source": [
    "- Dữ liệu có bao nhiêu dòng và bao nhiêu cột?"
   ]
  },
  {
   "cell_type": "code",
   "execution_count": 6,
   "metadata": {},
   "outputs": [
    {
     "data": {
      "text/plain": [
       "(1837, 2)"
      ]
     },
     "execution_count": 6,
     "metadata": {},
     "output_type": "execute_result"
    }
   ],
   "source": [
    "data_df.shape"
   ]
  },
  {
   "cell_type": "markdown",
   "metadata": {},
   "source": [
    "- Dữ liệu có các dòng bị lặp không?"
   ]
  },
  {
   "cell_type": "code",
   "execution_count": 7,
   "metadata": {
    "scrolled": true
   },
   "outputs": [
    {
     "data": {
      "text/plain": [
       "0"
      ]
     },
     "execution_count": 7,
     "metadata": {},
     "output_type": "execute_result"
    }
   ],
   "source": [
    "data_df.index.duplicated().sum()"
   ]
  },
  {
   "cell_type": "markdown",
   "metadata": {},
   "source": [
    "- Kiểu dữ liệu của các cột"
   ]
  },
  {
   "cell_type": "code",
   "execution_count": 8,
   "metadata": {},
   "outputs": [
    {
     "data": {
      "text/plain": [
       "Nội dung văn bản    object\n",
       "Chủ đề              object\n",
       "dtype: object"
      ]
     },
     "execution_count": 8,
     "metadata": {},
     "output_type": "execute_result"
    }
   ],
   "source": [
    "data_df.dtypes"
   ]
  },
  {
   "cell_type": "markdown",
   "metadata": {},
   "source": [
    "- Có dòng nào không lấy được nội dung văn bản không?"
   ]
  },
  {
   "cell_type": "code",
   "execution_count": 9,
   "metadata": {},
   "outputs": [
    {
     "data": {
      "text/plain": [
       "0"
      ]
     },
     "execution_count": 9,
     "metadata": {},
     "output_type": "execute_result"
    }
   ],
   "source": [
    "data_df['Nội dung văn bản'].isna().sum()"
   ]
  },
  {
   "cell_type": "markdown",
   "metadata": {},
   "source": [
    "- Cột output có giá trị thiếu không?"
   ]
  },
  {
   "cell_type": "code",
   "execution_count": 10,
   "metadata": {},
   "outputs": [
    {
     "data": {
      "text/plain": [
       "0"
      ]
     },
     "execution_count": 10,
     "metadata": {},
     "output_type": "execute_result"
    }
   ],
   "source": [
    "data_df['Chủ đề'].isna().sum()"
   ]
  },
  {
   "cell_type": "markdown",
   "metadata": {},
   "source": [
    "- Tỉ lệ các lớp trong cột output?"
   ]
  },
  {
   "cell_type": "code",
   "execution_count": 11,
   "metadata": {
    "scrolled": false
   },
   "outputs": [
    {
     "data": {
      "text/plain": [
       "Text(0, 0.5, 'Percent (%)')"
      ]
     },
     "execution_count": 11,
     "metadata": {},
     "output_type": "execute_result"
    },
    {
     "data": {
      "image/png": "[encoded data removed]",
      "text/plain": [
       "<Figure size 432x288 with 1 Axes>"
      ]
     },
     "metadata": {
      "needs_background": "light"
     },
     "output_type": "display_data"
    }
   ],
   "source": [
    "percent_class = data_df['Chủ đề'].value_counts(normalize=True) * 100\n",
    "percent_class.plot.bar(rot=0)\n",
    "plt.xlabel('Class', fontsize=12, weight='bold')\n",
    "plt.ylabel('Percent (%)', fontsize=12, weight='bold')"
   ]
  },
  {
   "cell_type": "markdown",
   "metadata": {},
   "source": [
    "Nhận xét: Tập dữ liệu phân bố khá đều."
   ]
  },
  {
   "cell_type": "markdown",
   "metadata": {},
   "source": [
    "---"
   ]
  },
  {
   "cell_type": "markdown",
   "metadata": {},
   "source": [
    "# Tiền xử lý dữ liệu, xây dựng mô hình Markov ẩn"
   ]
  },
  {
   "cell_type": "markdown",
   "metadata": {},
   "source": [
    "- thực hiện gôm các từ trong dữ liệu bằng hàm `ngram_word` tương tự như ở trên"
   ]
  },
  {
   "cell_type": "code",
   "execution_count": 12,
   "metadata": {},
   "outputs": [
    {
     "data": {
      "text/html": [
       "<div>\n",
       "<style scoped>\n",
       "    .dataframe tbody tr th:only-of-type {\n",
       "        vertical-align: middle;\n",
       "    }\n",
       "\n",
       "    .dataframe tbody tr th {\n",
       "        vertical-align: top;\n",
       "    }\n",
       "\n",
       "    .dataframe thead th {\n",
       "        text-align: right;\n",
       "    }\n",
       "</style>\n",
       "<table border=\"1\" class=\"dataframe\">\n",
       "  <thead>\n",
       "    <tr style=\"text-align: right;\">\n",
       "      <th></th>\n",
       "      <th>Nội dung văn bản</th>\n",
       "      <th>Chủ đề</th>\n",
       "    </tr>\n",
       "  </thead>\n",
       "  <tbody>\n",
       "    <tr>\n",
       "      <th>0</th>\n",
       "      <td>Bắn thuốc_mê di_dời đàn khỉ trong khu dân_cư S...</td>\n",
       "      <td>thoi-su</td>\n",
       "    </tr>\n",
       "    <tr>\n",
       "      <th>1</th>\n",
       "      <td>Lớp_học bằng ván gỗ cũ nát ở vùng_cao Lạng Sơn...</td>\n",
       "      <td>thoi-su</td>\n",
       "    </tr>\n",
       "    <tr>\n",
       "      <th>2</th>\n",
       "      <td></td>\n",
       "      <td>thoi-su</td>\n",
       "    </tr>\n",
       "    <tr>\n",
       "      <th>3</th>\n",
       "      <td>Sài_Gòn xuống 19 độ C Ảnh_hưởng không_khí lạnh...</td>\n",
       "      <td>thoi-su</td>\n",
       "    </tr>\n",
       "    <tr>\n",
       "      <th>4</th>\n",
       "      <td></td>\n",
       "      <td>thoi-su</td>\n",
       "    </tr>\n",
       "    <tr>\n",
       "      <th>...</th>\n",
       "      <td>...</td>\n",
       "      <td>...</td>\n",
       "    </tr>\n",
       "    <tr>\n",
       "      <th>1832</th>\n",
       "      <td>Lễ_hội áo_dài sắp diễn ra bên bờ sông Hương Th...</td>\n",
       "      <td>du-lich</td>\n",
       "    </tr>\n",
       "    <tr>\n",
       "      <th>1833</th>\n",
       "      <td>Trên máy_bay không phải chỗ nào cũng cho trẻ_e...</td>\n",
       "      <td>du-lich</td>\n",
       "    </tr>\n",
       "    <tr>\n",
       "      <th>1834</th>\n",
       "      <td>Cắm trại đón Giáng_sinh trong sân_bay Singapor...</td>\n",
       "      <td>du-lich</td>\n",
       "    </tr>\n",
       "    <tr>\n",
       "      <th>1835</th>\n",
       "      <td>Saigontourist_Group khuyến_mại lớn dịp Giáng_s...</td>\n",
       "      <td>du-lich</td>\n",
       "    </tr>\n",
       "    <tr>\n",
       "      <th>1836</th>\n",
       "      <td>Lợi_ích khi là khách_hàng thân_thiết của công_...</td>\n",
       "      <td>du-lich</td>\n",
       "    </tr>\n",
       "  </tbody>\n",
       "</table>\n",
       "<p>1837 rows × 2 columns</p>\n",
       "</div>"
      ],
      "text/plain": [
       "                                       Nội dung văn bản   Chủ đề\n",
       "0     Bắn thuốc_mê di_dời đàn khỉ trong khu dân_cư S...  thoi-su\n",
       "1     Lớp_học bằng ván gỗ cũ nát ở vùng_cao Lạng Sơn...  thoi-su\n",
       "2                                                        thoi-su\n",
       "3     Sài_Gòn xuống 19 độ C Ảnh_hưởng không_khí lạnh...  thoi-su\n",
       "4                                                        thoi-su\n",
       "...                                                 ...      ...\n",
       "1832  Lễ_hội áo_dài sắp diễn ra bên bờ sông Hương Th...  du-lich\n",
       "1833  Trên máy_bay không phải chỗ nào cũng cho trẻ_e...  du-lich\n",
       "1834  Cắm trại đón Giáng_sinh trong sân_bay Singapor...  du-lich\n",
       "1835  Saigontourist_Group khuyến_mại lớn dịp Giáng_s...  du-lich\n",
       "1836  Lợi_ích khi là khách_hàng thân_thiết của công_...  du-lich\n",
       "\n",
       "[1837 rows x 2 columns]"
      ]
     },
     "execution_count": 12,
     "metadata": {},
     "output_type": "execute_result"
    }
   ],
   "source": [
    "data_df = ngram_word(data_df)\n",
    "data_df"
   ]
  },
  {
   "cell_type": "markdown",
   "metadata": {},
   "source": [
    "- Xóa đi những dòng có số kí tự ít hơn 100 (Có thể có những dòng không lấy được dữ liệu vì không giống định dạng mẫu)"
   ]
  },
  {
   "cell_type": "code",
   "execution_count": 13,
   "metadata": {},
   "outputs": [
    {
     "data": {
      "text/plain": [
       "(1475, 2)"
      ]
     },
     "execution_count": 13,
     "metadata": {},
     "output_type": "execute_result"
    }
   ],
   "source": [
    "data_df.drop(data_df[data_df['Nội dung văn bản'].map(len) < 1000].index, inplace = True)\n",
    "#Dữ liệu sau khi xóa.\n",
    "data_df.shape"
   ]
  },
  {
   "cell_type": "markdown",
   "metadata": {},
   "source": [
    "- Ta sẽ chuyển cột Output `Chủ đề` thành dạng số"
   ]
  },
  {
   "cell_type": "code",
   "execution_count": 14,
   "metadata": {
    "scrolled": false
   },
   "outputs": [
    {
     "data": {
      "text/html": [
       "<div>\n",
       "<style scoped>\n",
       "    .dataframe tbody tr th:only-of-type {\n",
       "        vertical-align: middle;\n",
       "    }\n",
       "\n",
       "    .dataframe tbody tr th {\n",
       "        vertical-align: top;\n",
       "    }\n",
       "\n",
       "    .dataframe thead th {\n",
       "        text-align: right;\n",
       "    }\n",
       "</style>\n",
       "<table border=\"1\" class=\"dataframe\">\n",
       "  <thead>\n",
       "    <tr style=\"text-align: right;\">\n",
       "      <th></th>\n",
       "      <th>Nội dung văn bản</th>\n",
       "      <th>Chủ đề</th>\n",
       "    </tr>\n",
       "  </thead>\n",
       "  <tbody>\n",
       "    <tr>\n",
       "      <th>0</th>\n",
       "      <td>Bắn thuốc_mê di_dời đàn khỉ trong khu dân_cư S...</td>\n",
       "      <td>5</td>\n",
       "    </tr>\n",
       "    <tr>\n",
       "      <th>1</th>\n",
       "      <td>Lớp_học bằng ván gỗ cũ nát ở vùng_cao Lạng Sơn...</td>\n",
       "      <td>5</td>\n",
       "    </tr>\n",
       "    <tr>\n",
       "      <th>3</th>\n",
       "      <td>Sài_Gòn xuống 19 độ C Ảnh_hưởng không_khí lạnh...</td>\n",
       "      <td>5</td>\n",
       "    </tr>\n",
       "    <tr>\n",
       "      <th>5</th>\n",
       "      <td>Ông lão 72 tuổi vào đại_học TP HCMÔng Nguyễn V...</td>\n",
       "      <td>5</td>\n",
       "    </tr>\n",
       "    <tr>\n",
       "      <th>6</th>\n",
       "      <td>Hơn 1 000 gia_súc chết rét 1 080 con trâu_bò d...</td>\n",
       "      <td>5</td>\n",
       "    </tr>\n",
       "    <tr>\n",
       "      <th>...</th>\n",
       "      <td>...</td>\n",
       "      <td>...</td>\n",
       "    </tr>\n",
       "    <tr>\n",
       "      <th>1829</th>\n",
       "      <td>UNESCO công_nhận văn_hóa bán hàng rong là di_s...</td>\n",
       "      <td>0</td>\n",
       "    </tr>\n",
       "    <tr>\n",
       "      <th>1831</th>\n",
       "      <td>Vẻ đẹp nguyên_sơ của Hồ Tràm Bà_Rịa Vũng TàuCu...</td>\n",
       "      <td>0</td>\n",
       "    </tr>\n",
       "    <tr>\n",
       "      <th>1832</th>\n",
       "      <td>Lễ_hội áo_dài sắp diễn ra bên bờ sông Hương Th...</td>\n",
       "      <td>0</td>\n",
       "    </tr>\n",
       "    <tr>\n",
       "      <th>1835</th>\n",
       "      <td>Saigontourist_Group khuyến_mại lớn dịp Giáng_s...</td>\n",
       "      <td>0</td>\n",
       "    </tr>\n",
       "    <tr>\n",
       "      <th>1836</th>\n",
       "      <td>Lợi_ích khi là khách_hàng thân_thiết của công_...</td>\n",
       "      <td>0</td>\n",
       "    </tr>\n",
       "  </tbody>\n",
       "</table>\n",
       "<p>1475 rows × 2 columns</p>\n",
       "</div>"
      ],
      "text/plain": [
       "                                       Nội dung văn bản  Chủ đề\n",
       "0     Bắn thuốc_mê di_dời đàn khỉ trong khu dân_cư S...       5\n",
       "1     Lớp_học bằng ván gỗ cũ nát ở vùng_cao Lạng Sơn...       5\n",
       "3     Sài_Gòn xuống 19 độ C Ảnh_hưởng không_khí lạnh...       5\n",
       "5     Ông lão 72 tuổi vào đại_học TP HCMÔng Nguyễn V...       5\n",
       "6     Hơn 1 000 gia_súc chết rét 1 080 con trâu_bò d...       5\n",
       "...                                                 ...     ...\n",
       "1829  UNESCO công_nhận văn_hóa bán hàng rong là di_s...       0\n",
       "1831  Vẻ đẹp nguyên_sơ của Hồ Tràm Bà_Rịa Vũng TàuCu...       0\n",
       "1832  Lễ_hội áo_dài sắp diễn ra bên bờ sông Hương Th...       0\n",
       "1835  Saigontourist_Group khuyến_mại lớn dịp Giáng_s...       0\n",
       "1836  Lợi_ích khi là khách_hàng thân_thiết của công_...       0\n",
       "\n",
       "[1475 rows x 2 columns]"
      ]
     },
     "execution_count": 14,
     "metadata": {},
     "output_type": "execute_result"
    }
   ],
   "source": [
    "encoder = LabelEncoder()\n",
    "data_df['Chủ đề'] = encoder.fit_transform(data_df['Chủ đề'])\n",
    "data_df"
   ]
  },
  {
   "cell_type": "markdown",
   "metadata": {},
   "source": [
    "---"
   ]
  },
  {
   "cell_type": "markdown",
   "metadata": {},
   "source": [
    "## Tách dữ liệu"
   ]
  },
  {
   "cell_type": "code",
   "execution_count": 15,
   "metadata": {},
   "outputs": [],
   "source": [
    "X_df = data_df['Nội dung văn bản']\n",
    "y_df = data_df['Chủ đề']\n",
    "#Tách dữ liệu thành tập train và tập test"
   ]
  },
  {
   "cell_type": "code",
   "execution_count": 16,
   "metadata": {},
   "outputs": [
    {
     "data": {
      "text/plain": [
       "(1475,)"
      ]
     },
     "execution_count": 16,
     "metadata": {},
     "output_type": "execute_result"
    }
   ],
   "source": [
    "y_df.shape"
   ]
  },
  {
   "cell_type": "code",
   "execution_count": 17,
   "metadata": {},
   "outputs": [],
   "source": [
    "#X_train, X_val, y_train, y_val = train_test_split(X_df, y_df, test_size=0.3,stratify = y_df, random_state=0)\n",
    "X_train = X_df\n",
    "y_train = y_df"
   ]
  },
  {
   "cell_type": "code",
   "execution_count": 18,
   "metadata": {},
   "outputs": [
    {
     "data": {
      "text/plain": [
       "0       Bắn thuốc_mê di_dời đàn khỉ trong khu dân_cư S...\n",
       "1       Lớp_học bằng ván gỗ cũ nát ở vùng_cao Lạng Sơn...\n",
       "3       Sài_Gòn xuống 19 độ C Ảnh_hưởng không_khí lạnh...\n",
       "5       Ông lão 72 tuổi vào đại_học TP HCMÔng Nguyễn V...\n",
       "6       Hơn 1 000 gia_súc chết rét 1 080 con trâu_bò d...\n",
       "                              ...                        \n",
       "1829    UNESCO công_nhận văn_hóa bán hàng rong là di_s...\n",
       "1831    Vẻ đẹp nguyên_sơ của Hồ Tràm Bà_Rịa Vũng TàuCu...\n",
       "1832    Lễ_hội áo_dài sắp diễn ra bên bờ sông Hương Th...\n",
       "1835    Saigontourist_Group khuyến_mại lớn dịp Giáng_s...\n",
       "1836    Lợi_ích khi là khách_hàng thân_thiết của công_...\n",
       "Name: Nội dung văn bản, Length: 1475, dtype: object"
      ]
     },
     "execution_count": 18,
     "metadata": {},
     "output_type": "execute_result"
    }
   ],
   "source": [
    "X_train"
   ]
  },
  {
   "cell_type": "code",
   "execution_count": 19,
   "metadata": {},
   "outputs": [
    {
     "data": {
      "text/plain": [
       "0       5\n",
       "1       5\n",
       "3       5\n",
       "5       5\n",
       "6       5\n",
       "       ..\n",
       "1829    0\n",
       "1831    0\n",
       "1832    0\n",
       "1835    0\n",
       "1836    0\n",
       "Name: Chủ đề, Length: 1475, dtype: int32"
      ]
     },
     "execution_count": 19,
     "metadata": {},
     "output_type": "execute_result"
    }
   ],
   "source": [
    "y_train"
   ]
  },
  {
   "cell_type": "markdown",
   "metadata": {},
   "source": [
    "## Xóa đi những từ quá đặc biệt và những từ xuất hiện nhiều ở các văn bản."
   ]
  },
  {
   "cell_type": "code",
   "execution_count": 20,
   "metadata": {},
   "outputs": [
    {
     "data": {
      "text/html": [
       "<div>\n",
       "<style scoped>\n",
       "    .dataframe tbody tr th:only-of-type {\n",
       "        vertical-align: middle;\n",
       "    }\n",
       "\n",
       "    .dataframe tbody tr th {\n",
       "        vertical-align: top;\n",
       "    }\n",
       "\n",
       "    .dataframe thead th {\n",
       "        text-align: right;\n",
       "    }\n",
       "</style>\n",
       "<table border=\"1\" class=\"dataframe\">\n",
       "  <thead>\n",
       "    <tr style=\"text-align: right;\">\n",
       "      <th></th>\n",
       "      <th>IDF</th>\n",
       "    </tr>\n",
       "  </thead>\n",
       "  <tbody>\n",
       "    <tr>\n",
       "      <th>mâynhững</th>\n",
       "      <td>7.603944</td>\n",
       "    </tr>\n",
       "    <tr>\n",
       "      <th>stock</th>\n",
       "      <td>7.603944</td>\n",
       "    </tr>\n",
       "    <tr>\n",
       "      <th>liênbệnh</th>\n",
       "      <td>7.603944</td>\n",
       "    </tr>\n",
       "    <tr>\n",
       "      <th>liên_ấp</th>\n",
       "      <td>7.603944</td>\n",
       "    </tr>\n",
       "    <tr>\n",
       "      <th>liên_đội_trưởng</th>\n",
       "      <td>7.603944</td>\n",
       "    </tr>\n",
       "    <tr>\n",
       "      <th>...</th>\n",
       "      <td>...</td>\n",
       "    </tr>\n",
       "    <tr>\n",
       "      <th>là</th>\n",
       "      <td>1.088491</td>\n",
       "    </tr>\n",
       "    <tr>\n",
       "      <th>cho</th>\n",
       "      <td>1.083323</td>\n",
       "    </tr>\n",
       "    <tr>\n",
       "      <th>của</th>\n",
       "      <td>1.055725</td>\n",
       "    </tr>\n",
       "    <tr>\n",
       "      <th>trong</th>\n",
       "      <td>1.050723</td>\n",
       "    </tr>\n",
       "    <tr>\n",
       "      <th>và</th>\n",
       "      <td>1.012956</td>\n",
       "    </tr>\n",
       "  </tbody>\n",
       "</table>\n",
       "<p>31230 rows × 1 columns</p>\n",
       "</div>"
      ],
      "text/plain": [
       "                      IDF\n",
       "mâynhững         7.603944\n",
       "stock            7.603944\n",
       "liênbệnh         7.603944\n",
       "liên_ấp          7.603944\n",
       "liên_đội_trưởng  7.603944\n",
       "...                   ...\n",
       "là               1.088491\n",
       "cho              1.083323\n",
       "của              1.055725\n",
       "trong            1.050723\n",
       "và               1.012956\n",
       "\n",
       "[31230 rows x 1 columns]"
      ]
     },
     "execution_count": 20,
     "metadata": {},
     "output_type": "execute_result"
    }
   ],
   "source": [
    "tfidf = TfidfVectorizer(analyzer='word', ngram_range=(1, 1))\n",
    "tfidf.fit_transform(data_df['Nội dung văn bản'])\n",
    "feature_names = tfidf.get_feature_names()\n",
    "document_vector=tfidf.idf_\n",
    "\n",
    "#print the scores \n",
    "word_df = pd.DataFrame(document_vector, index=feature_names, columns=[\"IDF\"])\n",
    "word_df.sort_values(by=[\"IDF\"],ascending=False)"
   ]
  },
  {
   "cell_type": "code",
   "execution_count": 21,
   "metadata": {},
   "outputs": [
    {
     "data": {
      "text/html": [
       "<div>\n",
       "<style scoped>\n",
       "    .dataframe tbody tr th:only-of-type {\n",
       "        vertical-align: middle;\n",
       "    }\n",
       "\n",
       "    .dataframe tbody tr th {\n",
       "        vertical-align: top;\n",
       "    }\n",
       "\n",
       "    .dataframe thead th {\n",
       "        text-align: right;\n",
       "    }\n",
       "</style>\n",
       "<table border=\"1\" class=\"dataframe\">\n",
       "  <thead>\n",
       "    <tr style=\"text-align: right;\">\n",
       "      <th></th>\n",
       "      <th>IDF</th>\n",
       "    </tr>\n",
       "  </thead>\n",
       "  <tbody>\n",
       "    <tr>\n",
       "      <th>chọn_lựa</th>\n",
       "      <td>6.099866</td>\n",
       "    </tr>\n",
       "    <tr>\n",
       "      <th>nhảy_múa</th>\n",
       "      <td>6.099866</td>\n",
       "    </tr>\n",
       "    <tr>\n",
       "      <th>bình_tân</th>\n",
       "      <td>6.099866</td>\n",
       "    </tr>\n",
       "    <tr>\n",
       "      <th>bình_thạnh</th>\n",
       "      <td>6.099866</td>\n",
       "    </tr>\n",
       "    <tr>\n",
       "      <th>như_ý</th>\n",
       "      <td>6.099866</td>\n",
       "    </tr>\n",
       "    <tr>\n",
       "      <th>...</th>\n",
       "      <td>...</td>\n",
       "    </tr>\n",
       "    <tr>\n",
       "      <th>đầu</th>\n",
       "      <td>1.829392</td>\n",
       "    </tr>\n",
       "    <tr>\n",
       "      <th>cao</th>\n",
       "      <td>1.821658</td>\n",
       "    </tr>\n",
       "    <tr>\n",
       "      <th>gần</th>\n",
       "      <td>1.818581</td>\n",
       "    </tr>\n",
       "    <tr>\n",
       "      <th>2020</th>\n",
       "      <td>1.817046</td>\n",
       "    </tr>\n",
       "    <tr>\n",
       "      <th>lần</th>\n",
       "      <td>1.815514</td>\n",
       "    </tr>\n",
       "  </tbody>\n",
       "</table>\n",
       "<p>5031 rows × 1 columns</p>\n",
       "</div>"
      ],
      "text/plain": [
       "                 IDF\n",
       "chọn_lựa    6.099866\n",
       "nhảy_múa    6.099866\n",
       "bình_tân    6.099866\n",
       "bình_thạnh  6.099866\n",
       "như_ý       6.099866\n",
       "...              ...\n",
       "đầu         1.829392\n",
       "cao         1.821658\n",
       "gần         1.818581\n",
       "2020        1.817046\n",
       "lần         1.815514\n",
       "\n",
       "[5031 rows x 1 columns]"
      ]
     },
     "execution_count": 21,
     "metadata": {},
     "output_type": "execute_result"
    }
   ],
   "source": [
    "tfidf = TfidfVectorizer(analyzer='word', ngram_range=(1, 1), min_df=8, max_df=0.45)\n",
    "tfidf.fit_transform(data_df['Nội dung văn bản'])\n",
    "feature_names = tfidf.get_feature_names()\n",
    "\n",
    "document_vector=tfidf.idf_\n",
    "\n",
    "#print the scores \n",
    "word_df = pd.DataFrame(document_vector, index=feature_names, columns=[\"IDF\"])\n",
    "word_df.sort_values(by=[\"IDF\"],ascending=False)"
   ]
  },
  {
   "cell_type": "markdown",
   "metadata": {},
   "source": [
    "Nhận xét:"
   ]
  },
  {
   "cell_type": "markdown",
   "metadata": {},
   "source": [
    "## Xây dựng class Preprocessing  và mô hình Markov ẩn"
   ]
  },
  {
   "cell_type": "code",
   "execution_count": 22,
   "metadata": {},
   "outputs": [],
   "source": [
    "class Preprocessing(BaseEstimator, TransformerMixin):\n",
    "    def __init__(self, min_df, max_df, word_df):\n",
    "        self.min_df = min_df\n",
    "        self.max_df = max_df\n",
    "        self.word_df = word_df\n",
    "    def fit(self, X_df, y=None):\n",
    "        return self\n",
    "    def transform(self, X_df, y=None):\n",
    "        new_df = X_df.copy()\n",
    "        new_df = new_df.str.split(\" \")\n",
    "        for i in new_df.index:\n",
    "            new_df[i] = [word.lower() for word in new_df[i] if word in self.word_df]\n",
    "        return new_df"
   ]
  },
  {
   "cell_type": "code",
   "execution_count": 23,
   "metadata": {},
   "outputs": [],
   "source": [
    "class HMM(ClassifierMixin):\n",
    "    def __init__(self, description, state_list, obser_list):\n",
    "        self.description = description\n",
    "\n",
    "        self.N = len(state_list)\n",
    "        self.M = len(obser_list)\n",
    "        self.S = state_list\n",
    "        self.O = obser_list\n",
    "        \n",
    "        tmp = list(range(self.N))  # Temporary array for states\n",
    "        for i in range(self.N):\n",
    "            tmp[i] = 0.0\n",
    "    \n",
    "        self.A = []\n",
    "        for i in range(self.N):  # One line per state\n",
    "            self.A.append(tmp[:])\n",
    "            \n",
    "        self.pi = tmp[:]\n",
    "        \n",
    "        tmp = list(range(self.M))  # Temporary array for observations\n",
    "        for i in range(self.M):\n",
    "            tmp[i] = 0.0\n",
    "\n",
    "        # Matrix for observation probabilities  - - - - - - - - - - - - - - - - - -\n",
    "        #\n",
    "        self.B = []\n",
    "        for i in range(self.N):  # One line per state\n",
    "            self.B.append(tmp[:])\n",
    "            \n",
    "        self.S_ind = {}\n",
    "        for i in range(self.N):\n",
    "            self.S_ind[self.S[i]] = i\n",
    "        self.O_ind = {}\n",
    "        for i in range(self.M):\n",
    "            self.O_ind[self.O[i]] = i\n",
    "\n",
    "        # A log message - - - - - - - - - - - - - - - - - - - - - - - - - - - - - -\n",
    "        #\n",
    "        logging.info('Initialised HMM:')\n",
    "        logging.info('  Description:  %s' % (self.description))\n",
    "        logging.info('  States:       %s' % (str(state_list)))\n",
    "        logging.info('  Observations: %s' % (str(obser_list)))\n",
    "        \n",
    "    def check_prob(self):\n",
    "        \"\"\"Check probabilities in HMM for validity.\n",
    "\n",
    "        USAGE:\n",
    "          myhmm.check_prob()\n",
    "\n",
    "        ARGUMENTS:\n",
    "          None\n",
    "\n",
    "        DESCRIPTION:\n",
    "          Checks all probabilities in the HMM for validity, i.e. if they sum to\n",
    "          1.0 in each state (observation and outgoing state probabilities).\n",
    "\n",
    "          If an error occurs, a negative number is returned, 0 otherwise\n",
    "        \"\"\"\n",
    "\n",
    "        delta = 0.0000000000001  # Account for floating-point rounding errors\n",
    "        ret = 0\n",
    "        sum = 0.0\n",
    "        for i in range(self.N):\n",
    "            sum = sum+self.pi[i]\n",
    "        if (abs(sum - 1.0) > delta):\n",
    "            logging.warn('HMM initial state probabilities sum is not 1: %f' % (sum))\n",
    "            ret -= 1\n",
    "        for i in range(self.N):\n",
    "            sum  = 0.0\n",
    "            for j in range(self.N):\n",
    "                sum = sum+self.A[i][j]\n",
    "            if (abs(sum - 1.0) > delta):\n",
    "                logging.warn('HMM state \"%s\" has transition ' % (self.S[i])  + \\\n",
    "                         'probabilities sum not 1.0: %f' % (sum))\n",
    "                ret -= 1\n",
    "\n",
    "        for i in range(self.N):\n",
    "            sum  = 0\n",
    "            for j in range(self.M):\n",
    "                sum = sum+self.B[i][j]\n",
    "            if (abs(sum - 1.0) > delta):\n",
    "                logging.warn('HMM state \"%s\" has observation ' % (self.S[i]) + \\\n",
    "                         'probabilities sum not 1.0: '+str(sum))\n",
    "                ret -= 1\n",
    "        return ret\n",
    "\n",
    "    def fit(self, X=None, y=None):\n",
    "        \"\"\"Train the HMM with annotated training data (supervised learning).\n",
    "\n",
    "        USAGE:\n",
    "          myhmm.train(train_data)\n",
    "\n",
    "        ARGUMENTS:\n",
    "          train_data  A set of training data in list form\n",
    "          smoothing   If smoothing of the observation probabilities is desired (for\n",
    "                      unknown symbols) then ths argument should be set to either\n",
    "                      'laplace' (for Laplace smoothing) or 'absdiscount' (for the\n",
    "                      absolute discounting method).\n",
    "                      The default is 'None' and no smoothing will be done.\n",
    "\n",
    "        DESCRIPTION:\n",
    "          Using the training data, the HMM probabilities are set.\n",
    "\n",
    "          'train_data' is a Python list with one element per training record.\n",
    "          Each training record is a list (sequence) with pairs (tuple or list)\n",
    "          of (state,observation) pairs. These training records can have varying\n",
    "          length.\n",
    "\n",
    "          For more information on the smoothing methods, see e.g.\n",
    "            V.Borkar et.al., Automatic Segmentation of Text into\n",
    "                             Structured Records\n",
    "            Section 2.2\n",
    "        \"\"\"\n",
    "\n",
    "        # Reset initial state, transition and observation probabilities - - - - - -\n",
    "        #\n",
    "        train_data = []\n",
    "        for i in X.index:\n",
    "            row = []\n",
    "            for word in X[i]:\n",
    "                row.append((y[i], word))\n",
    "            train_data.append(row)\n",
    "            \n",
    "        for i in range(self.N):\n",
    "            self.pi[i] = 0.0\n",
    "            for j in range(self.N):\n",
    "                self.A[i][j] = 0.0\n",
    "            for j in range(self.M):\n",
    "                self.B[i][j] = 0.0\n",
    "\n",
    "        # Sum up probabilities from training data - - - - - - - - - - - - - - - - -\n",
    "        #\n",
    "        for train_rec in train_data:\n",
    "            (init_state, init_obser) = train_rec[0]  # Get first tuple\n",
    "            i = self.S_ind[init_state]\n",
    "            self.pi[i] = self.pi[i] + 1.0\n",
    "\n",
    "            for pair in train_rec:  # For each pair in this training record\n",
    "                (state,obser) = pair\n",
    "                i = self.S_ind[state]\n",
    "                j = self.O_ind[obser]\n",
    "                self.B[i][j] = self.B[i][j] + 1.0\n",
    "\n",
    "\n",
    "        # Scale counts into probabilities - - - - - - - - - - - - - - - - - - - - -\n",
    "        #\n",
    "        # Scale initial probabilities\n",
    "        #\n",
    "        sum = 0.0\n",
    "        for i in range(self.N):\n",
    "            sum = sum+self.pi[i]\n",
    "        if (sum != 0.0):\n",
    "            for i in range(self.N):\n",
    "                self.pi[i] = self.pi[i] / sum\n",
    "\n",
    "        # Scale observation probabilities\n",
    "        #\n",
    "        # Do Laplace smoothing\n",
    "        for i in range(self.N):  # For each state\n",
    "            sum  = float(self.M)\n",
    "            for j in range(self.M):\n",
    "                sum = sum+self.B[i][j]\n",
    "            for j in range(self.M):\n",
    "                self.B[i][j] = (self.B[i][j]+1.0) / sum\n",
    "        ###\n",
    "        ###\n",
    "        ###\n",
    "        for train_rec in train_data:\n",
    "            for i in range(len(train_rec)-1):\n",
    "                word = train_rec[i][1]\n",
    "                next_word = train_rec[i+1][1]\n",
    "                for word_state in range(self.N):\n",
    "                    prob_word_state = self.B[word_state][self.O_ind[word]]\n",
    "                    for next_word_state in range(self.N):         \n",
    "                        prob_next_word_state = self.B[next_word_state][self.O_ind[next_word]]\n",
    "                        self.A[word_state][next_word_state] += prob_word_state * prob_next_word_state\n",
    "\n",
    "        # Scale transition probabilities\n",
    "        #\n",
    "        for i in range(self.N):  # For each state\n",
    "            sum  = 0.0\n",
    "            for j in range(self.N):\n",
    "                sum = sum+self.A[i][j]\n",
    "            if (sum != 0.0):\n",
    "                for j in range(self.N):\n",
    "                    self.A[i][j] = self.A[i][j] / sum\n",
    "\n",
    "        self.check_prob()  # Check if probabilities are OK\n",
    "\n",
    "        # A log message - - - - - - - - - - - - - - - - - - - - - - - - - - - - - -\n",
    "        #\n",
    "        logging.info('Trained HMM with %i training records' % (len(X)))\n",
    "        \n",
    "    def viterbi(self, obser_seq):\n",
    "        \"\"\"Apply the Viterbi algorithm.\n",
    "\n",
    "        USAGE:\n",
    "          [sequence, seq_prob] = myhmm.viterbi(obser_seq)\n",
    "\n",
    "        ARGUMENTS:\n",
    "          obser_seq  An observation sequence (all observations must be in the list\n",
    "                     of observations of the HMM)\n",
    "\n",
    "        DESCRIPTION:\n",
    "          This routine uses the Viterbi algorithm to find the most likely state\n",
    "          sequence for the given observation sequence. Returns the sequence in a\n",
    "          list and it's probability.\n",
    "        \"\"\"\n",
    "    \n",
    "        for obs in obser_seq:\n",
    "            if obs not in self.O:\n",
    "                self.O.append(obs)\n",
    "                self.O_ind[obs] = self.M   \n",
    "                for i in range(self.N):  # For each state\n",
    "                    for j in range(self.M):\n",
    "                        self.B[i][j] = self.B[i][j]*self.M/(self.M + 1)\n",
    "                    self.B[i].append(1/(self.M + 1))\n",
    "\n",
    "                self.M = self.M + 1\n",
    "\n",
    "        tmp = list(range(self.N))  # Temporary array with zeros\n",
    "        for i in range(self.N):\n",
    "            tmp[i] = 0\n",
    "\n",
    "        obs_len = len(obser_seq)\n",
    "        obs_ind = []\n",
    "        for obs in obser_seq:\n",
    "            obs_ind.append(self.O_ind[obs])\n",
    "\n",
    "        delta = [tmp[:]]  # Compute initial state probabilities\n",
    "        for i in range(self.N):\n",
    "            delta[0][i] = self.pi[i] * self.B[i][obs_ind[0]]\n",
    "\n",
    "        phi = [tmp[:]]\n",
    "\n",
    "        for obs in obs_ind[1:]:  # For all observations except the inital one\n",
    "            delta_t = tmp[:]\n",
    "            phi_t = tmp[:]\n",
    "            for j in range(self.N):   # Following formula 33 in Rabiner'89\n",
    "                tdelta = tmp[:]\n",
    "                tphimax = -1.0\n",
    "                for i in range(self.N):\n",
    "                    tphi_tmp = delta[-1][i] * self.A[i][j]\n",
    "                    if (tphi_tmp > tphimax):\n",
    "                        tphimax = tphi_tmp\n",
    "                        phi_t[j] = i\n",
    "                    tdelta[i] = tphi_tmp * self.B[j][obs]\n",
    "                delta_t[j] = max(tdelta)\n",
    "            if max(delta_t) < 0.001:\n",
    "                mu = int(math.log(max(delta_t), 10))\n",
    "                for i in range(self.N):\n",
    "                    delta_t[i] = delta_t[i]/(10**mu)\n",
    "            delta.append(delta_t)\n",
    "            phi.append(phi_t)\n",
    "\n",
    "        # Backtrack the path through the states  (Formula 34 in Rabiner'89)\n",
    "        #\n",
    "        tmax = -1.0\n",
    "        for i in range(self.N):\n",
    "            if (delta[-1][i] > tmax):\n",
    "                tmax = delta[-1][i]\n",
    "                state_seq = [i]  # Last state with maximum probability\n",
    "\n",
    "        phi.reverse()  # Because we start from the end of the sequence\n",
    "        for tphi in phi[:-1]:\n",
    "            state_seq.append(tphi[state_seq[-1]])\n",
    "\n",
    "        sequence = []\n",
    "\n",
    "        for state in state_seq:\n",
    "            sequence.append(self.S[state])\n",
    "\n",
    "        sequence.reverse()  # Reverse into correct time direction\n",
    "        state_seq.reverse()\n",
    "\n",
    "        # Finally compute probability of this state and observation sequence\n",
    "        #\n",
    "        prev_ind = state_seq[0]\n",
    "        seq_prob = self.pi[prev_ind]\n",
    "        seq_prob *= self.B[prev_ind][self.O_ind[obser_seq[0]]]\n",
    "\n",
    "        for i in range(1,len(state_seq)):\n",
    "            ind = state_seq[i]\n",
    "            obs = self.O_ind[obser_seq[i]]\n",
    "            seq_prob *= self.A[prev_ind][ind]\n",
    "            seq_prob *= self.B[ind][obs]\n",
    "            prev_ind = ind\n",
    "\n",
    "        # A log message - - - - - - - - - - - - - - - - - - - - - - - - - - - - - -\n",
    "        #\n",
    "        logging.debug('  Viterbi analysis')\n",
    "        logging.debug('    Input observation sequence: %s' % (str(obser_seq)))\n",
    "        logging.debug('    Output state sequence:      %s' % (str(sequence)))\n",
    "        logging.debug('    Output probability: %f' % (seq_prob))\n",
    "\n",
    "        return [sequence, seq_prob]\n",
    "\n",
    "    def majority_role(self, state_sequence):\n",
    "        count_state = {}\n",
    "        for state in state_sequence:\n",
    "            count_state[state] = count_state.get(state, 0) + 1\n",
    "        #print(count_state)\n",
    "        return max(count_state, key=count_state.get)\n",
    "    \n",
    "    def predict(self, X):\n",
    "        predict_y_sr = []\n",
    "        for test_rec in X:\n",
    "            [state_sequence, sequence_probability] = self.viterbi(test_rec)\n",
    "            #print(state_sequence)\n",
    "            predict_y_sr.append(self.majority_role(state_sequence))\n",
    "        return predict_y_sr"
   ]
  },
  {
   "cell_type": "markdown",
   "metadata": {},
   "source": [
    "# Chạy mô hình và thử nghiệm trên tập test"
   ]
  },
  {
   "cell_type": "markdown",
   "metadata": {},
   "source": [
    "## Chạy mô hình"
   ]
  },
  {
   "cell_type": "code",
   "execution_count": 24,
   "metadata": {},
   "outputs": [
    {
     "data": {
      "text/plain": [
       "[0, 1, 2, 3, 4, 5]"
      ]
     },
     "execution_count": 24,
     "metadata": {},
     "output_type": "execute_result"
    }
   ],
   "source": [
    "hidden_states = list(y_train.unique())\n",
    "hidden_states.sort()\n",
    "hidden_states"
   ]
  },
  {
   "cell_type": "code",
   "execution_count": 25,
   "metadata": {},
   "outputs": [],
   "source": [
    "observation_states = word_df.index"
   ]
  },
  {
   "cell_type": "markdown",
   "metadata": {},
   "source": [
    "- Tạo Pipeline"
   ]
  },
  {
   "cell_type": "code",
   "execution_count": 26,
   "metadata": {},
   "outputs": [],
   "source": [
    "pipeline = Pipeline([('process',Preprocessing(min_df =10, max_df = 0.5, word_df = word_df.index)),\n",
    "                     ('classifier',HMM(\"HMM model\", hidden_states, observation_states))])"
   ]
  },
  {
   "cell_type": "code",
   "execution_count": 27,
   "metadata": {},
   "outputs": [
    {
     "data": {
      "text/plain": [
       "Pipeline(steps=[('process',\n",
       "                 Preprocessing(max_df=0.5, min_df=10,\n",
       "                               word_df=Index(['000', '01', '0h', '10', '100', '102', '103', '108', '1088', '109',\n",
       "       ...\n",
       "       'ủng_hộ', 'ủy', 'ủy_ban', 'ủy_viên', 'ức_chế', 'ứng_cử_viên',\n",
       "       'ứng_dụng', 'ứng_phó', 'ứng_viên', 'ứng_xử'],\n",
       "      dtype='object', length=5031))),\n",
       "                ('classifier', <__main__.HMM object at 0x000002548EF1C910>)])"
      ]
     },
     "execution_count": 27,
     "metadata": {},
     "output_type": "execute_result"
    }
   ],
   "source": [
    "pipeline.fit(X_train, y_train)"
   ]
  },
  {
   "cell_type": "markdown",
   "metadata": {},
   "source": [
    "## Dự đoán trên tập Test"
   ]
  },
  {
   "cell_type": "markdown",
   "metadata": {},
   "source": [
    "Đầu tiên ta lấy dữ liệu tập test đã thu thập được từ file `test.csv`"
   ]
  },
  {
   "cell_type": "code",
   "execution_count": 28,
   "metadata": {},
   "outputs": [
    {
     "data": {
      "text/html": [
       "<div>\n",
       "<style scoped>\n",
       "    .dataframe tbody tr th:only-of-type {\n",
       "        vertical-align: middle;\n",
       "    }\n",
       "\n",
       "    .dataframe tbody tr th {\n",
       "        vertical-align: top;\n",
       "    }\n",
       "\n",
       "    .dataframe thead th {\n",
       "        text-align: right;\n",
       "    }\n",
       "</style>\n",
       "<table border=\"1\" class=\"dataframe\">\n",
       "  <thead>\n",
       "    <tr style=\"text-align: right;\">\n",
       "      <th></th>\n",
       "      <th>Nội dung văn bản</th>\n",
       "      <th>Chủ đề</th>\n",
       "    </tr>\n",
       "  </thead>\n",
       "  <tbody>\n",
       "    <tr>\n",
       "      <th>0</th>\n",
       "      <td>Công_an huyện Thanh_Trì Hà_Nội hôm_nay 15 1 ch...</td>\n",
       "      <td>thoi-su</td>\n",
       "    </tr>\n",
       "    <tr>\n",
       "      <th>1</th>\n",
       "      <td>Lắp_đặt hệ_thống điện mặt_trời áp mái để phục_...</td>\n",
       "      <td>thoi-su</td>\n",
       "    </tr>\n",
       "    <tr>\n",
       "      <th>2</th>\n",
       "      <td>“ Trong mọi trường_hợp người Việt_Nam nhập_cản...</td>\n",
       "      <td>thoi-su</td>\n",
       "    </tr>\n",
       "    <tr>\n",
       "      <th>3</th>\n",
       "      <td>Công_an thị_xã Sa_Pa Lào_Cai đang làm rõ nam t...</td>\n",
       "      <td>thoi-su</td>\n",
       "    </tr>\n",
       "    <tr>\n",
       "      <th>4</th>\n",
       "      <td>Bị_can Nguyễn Thành Mỹ đồng_phạm với ông Lê_Tấ...</td>\n",
       "      <td>thoi-su</td>\n",
       "    </tr>\n",
       "    <tr>\n",
       "      <th>...</th>\n",
       "      <td>...</td>\n",
       "      <td>...</td>\n",
       "    </tr>\n",
       "    <tr>\n",
       "      <th>516</th>\n",
       "      <td>Làng Tiebele trở_thành địa_điểm du_lịch hấp_dẫ...</td>\n",
       "      <td>du-lich</td>\n",
       "    </tr>\n",
       "    <tr>\n",
       "      <th>517</th>\n",
       "      <td>Mới_đây công_trình này bị liệt trong danh_sách...</td>\n",
       "      <td>du-lich</td>\n",
       "    </tr>\n",
       "    <tr>\n",
       "      <th>518</th>\n",
       "      <td>Ở tuổi 14 bạn_bè và gia_đình Nikhil Kamath có_...</td>\n",
       "      <td>du-lich</td>\n",
       "    </tr>\n",
       "    <tr>\n",
       "      <th>519</th>\n",
       "      <td>“ Tôi thực_sự thích làm những việc bình_thường...</td>\n",
       "      <td>du-lich</td>\n",
       "    </tr>\n",
       "    <tr>\n",
       "      <th>520</th>\n",
       "      <td>Không khó nhận_diện tình_yêu chân_thành trong ...</td>\n",
       "      <td>du-lich</td>\n",
       "    </tr>\n",
       "  </tbody>\n",
       "</table>\n",
       "<p>521 rows × 2 columns</p>\n",
       "</div>"
      ],
      "text/plain": [
       "                                      Nội dung văn bản   Chủ đề\n",
       "0    Công_an huyện Thanh_Trì Hà_Nội hôm_nay 15 1 ch...  thoi-su\n",
       "1    Lắp_đặt hệ_thống điện mặt_trời áp mái để phục_...  thoi-su\n",
       "2    “ Trong mọi trường_hợp người Việt_Nam nhập_cản...  thoi-su\n",
       "3    Công_an thị_xã Sa_Pa Lào_Cai đang làm rõ nam t...  thoi-su\n",
       "4    Bị_can Nguyễn Thành Mỹ đồng_phạm với ông Lê_Tấ...  thoi-su\n",
       "..                                                 ...      ...\n",
       "516  Làng Tiebele trở_thành địa_điểm du_lịch hấp_dẫ...  du-lich\n",
       "517  Mới_đây công_trình này bị liệt trong danh_sách...  du-lich\n",
       "518  Ở tuổi 14 bạn_bè và gia_đình Nikhil Kamath có_...  du-lich\n",
       "519  “ Tôi thực_sự thích làm những việc bình_thường...  du-lich\n",
       "520  Không khó nhận_diện tình_yêu chân_thành trong ...  du-lich\n",
       "\n",
       "[521 rows x 2 columns]"
      ]
     },
     "execution_count": 28,
     "metadata": {},
     "output_type": "execute_result"
    }
   ],
   "source": [
    "data_test_df = pd.read_csv('test.txt')\n",
    "data_test_df"
   ]
  },
  {
   "cell_type": "markdown",
   "metadata": {},
   "source": [
    "Sau đó ta thực hiện gôm các từ trong dữ liệu bằng hàm `ngram_word` tương tự như ở trên"
   ]
  },
  {
   "cell_type": "code",
   "execution_count": 29,
   "metadata": {},
   "outputs": [
    {
     "data": {
      "text/html": [
       "<div>\n",
       "<style scoped>\n",
       "    .dataframe tbody tr th:only-of-type {\n",
       "        vertical-align: middle;\n",
       "    }\n",
       "\n",
       "    .dataframe tbody tr th {\n",
       "        vertical-align: top;\n",
       "    }\n",
       "\n",
       "    .dataframe thead th {\n",
       "        text-align: right;\n",
       "    }\n",
       "</style>\n",
       "<table border=\"1\" class=\"dataframe\">\n",
       "  <thead>\n",
       "    <tr style=\"text-align: right;\">\n",
       "      <th></th>\n",
       "      <th>Nội dung văn bản</th>\n",
       "      <th>Chủ đề</th>\n",
       "    </tr>\n",
       "  </thead>\n",
       "  <tbody>\n",
       "    <tr>\n",
       "      <th>0</th>\n",
       "      <td>Công_an huyện Thanh_Trì Hà_Nội hôm_nay 15 1 ch...</td>\n",
       "      <td>thoi-su</td>\n",
       "    </tr>\n",
       "    <tr>\n",
       "      <th>1</th>\n",
       "      <td>Lắp_đặt hệ_thống điện mặt_trời áp mái để phục_...</td>\n",
       "      <td>thoi-su</td>\n",
       "    </tr>\n",
       "    <tr>\n",
       "      <th>2</th>\n",
       "      <td>“ Trong mọi trường_hợp người Việt_Nam nhập_cản...</td>\n",
       "      <td>thoi-su</td>\n",
       "    </tr>\n",
       "    <tr>\n",
       "      <th>3</th>\n",
       "      <td>Công_an thị_xã Sa_Pa Lào_Cai đang làm rõ nam t...</td>\n",
       "      <td>thoi-su</td>\n",
       "    </tr>\n",
       "    <tr>\n",
       "      <th>4</th>\n",
       "      <td>Bị_can Nguyễn Thành Mỹ đồng_phạm với ông Lê_Tấ...</td>\n",
       "      <td>thoi-su</td>\n",
       "    </tr>\n",
       "    <tr>\n",
       "      <th>...</th>\n",
       "      <td>...</td>\n",
       "      <td>...</td>\n",
       "    </tr>\n",
       "    <tr>\n",
       "      <th>516</th>\n",
       "      <td>Làng Tiebele trở_thành địa_điểm du_lịch hấp_dẫ...</td>\n",
       "      <td>du-lich</td>\n",
       "    </tr>\n",
       "    <tr>\n",
       "      <th>517</th>\n",
       "      <td>Mới_đây công_trình này bị liệt trong danh_sách...</td>\n",
       "      <td>du-lich</td>\n",
       "    </tr>\n",
       "    <tr>\n",
       "      <th>518</th>\n",
       "      <td>Ở tuổi 14 bạn_bè và gia_đình Nikhil Kamath có_...</td>\n",
       "      <td>du-lich</td>\n",
       "    </tr>\n",
       "    <tr>\n",
       "      <th>519</th>\n",
       "      <td>“ Tôi thực_sự thích làm những việc bình_thường...</td>\n",
       "      <td>du-lich</td>\n",
       "    </tr>\n",
       "    <tr>\n",
       "      <th>520</th>\n",
       "      <td>Không khó nhận_diện tình_yêu chân_thành trong ...</td>\n",
       "      <td>du-lich</td>\n",
       "    </tr>\n",
       "  </tbody>\n",
       "</table>\n",
       "<p>521 rows × 2 columns</p>\n",
       "</div>"
      ],
      "text/plain": [
       "                                      Nội dung văn bản   Chủ đề\n",
       "0    Công_an huyện Thanh_Trì Hà_Nội hôm_nay 15 1 ch...  thoi-su\n",
       "1    Lắp_đặt hệ_thống điện mặt_trời áp mái để phục_...  thoi-su\n",
       "2    “ Trong mọi trường_hợp người Việt_Nam nhập_cản...  thoi-su\n",
       "3    Công_an thị_xã Sa_Pa Lào_Cai đang làm rõ nam t...  thoi-su\n",
       "4    Bị_can Nguyễn Thành Mỹ đồng_phạm với ông Lê_Tấ...  thoi-su\n",
       "..                                                 ...      ...\n",
       "516  Làng Tiebele trở_thành địa_điểm du_lịch hấp_dẫ...  du-lich\n",
       "517  Mới_đây công_trình này bị liệt trong danh_sách...  du-lich\n",
       "518  Ở tuổi 14 bạn_bè và gia_đình Nikhil Kamath có_...  du-lich\n",
       "519  “ Tôi thực_sự thích làm những việc bình_thường...  du-lich\n",
       "520  Không khó nhận_diện tình_yêu chân_thành trong ...  du-lich\n",
       "\n",
       "[521 rows x 2 columns]"
      ]
     },
     "execution_count": 29,
     "metadata": {},
     "output_type": "execute_result"
    }
   ],
   "source": [
    "data_test_df = ngram_word(data_test_df)\n",
    "data_test_df"
   ]
  },
  {
   "cell_type": "markdown",
   "metadata": {},
   "source": [
    "Xóa đi những dòng không lấy được dữ liệu"
   ]
  },
  {
   "cell_type": "code",
   "execution_count": 30,
   "metadata": {},
   "outputs": [
    {
     "data": {
      "text/plain": [
       "(521, 2)"
      ]
     },
     "execution_count": 30,
     "metadata": {},
     "output_type": "execute_result"
    }
   ],
   "source": [
    "data_test_df.drop(data_test_df[data_test_df['Nội dung văn bản'].map(len) == 0].index, inplace = True)\n",
    "data_test_df.shape"
   ]
  },
  {
   "cell_type": "markdown",
   "metadata": {},
   "source": [
    "Tách tập `Nội dung văn bản` và `Chủ đề` của tập Test để dự đoán và đánh giá"
   ]
  },
  {
   "cell_type": "code",
   "execution_count": 31,
   "metadata": {},
   "outputs": [],
   "source": [
    "test_X_df = data_test_df['Nội dung văn bản']\n",
    "test_y_df = data_test_df['Chủ đề']\n",
    "test_y_df = encoder.transform(test_y_df)"
   ]
  },
  {
   "cell_type": "markdown",
   "metadata": {},
   "source": [
    "Dự đoán chủ đề cho tập Test"
   ]
  },
  {
   "cell_type": "code",
   "execution_count": 32,
   "metadata": {},
   "outputs": [],
   "source": [
    "predict_y_sr = pipeline.predict(test_X_df)"
   ]
  },
  {
   "cell_type": "markdown",
   "metadata": {},
   "source": [
    "## Kết quả dự đoán"
   ]
  },
  {
   "cell_type": "code",
   "execution_count": 33,
   "metadata": {},
   "outputs": [],
   "source": [
    "from sklearn.metrics import confusion_matrix, accuracy_score, precision_score, recall_score, f1_score\n",
    "from sklearn.metrics import ConfusionMatrixDisplay\n",
    "\n",
    "Confusion_Matrix = confusion_matrix(test_y_df, predict_y_sr)\n",
    "Accuracy = accuracy_score(test_y_df, predict_y_sr)\n",
    "F1 = f1_score(test_y_df, predict_y_sr, average='weighted')"
   ]
  },
  {
   "cell_type": "code",
   "execution_count": 34,
   "metadata": {},
   "outputs": [
    {
     "name": "stderr",
     "output_type": "stream",
     "text": [
      "C:\\Users\\Admin\\anaconda3\\lib\\site-packages\\sklearn\\utils\\validation.py:70: FutureWarning: Pass display_labels=[0, 1, 2, 3, 4, 5] as keyword args. From version 1.0 (renaming of 0.25) passing these as positional arguments will result in an error\n",
      "  warnings.warn(f\"Pass {args_msg} as keyword args. From version \"\n"
     ]
    },
    {
     "data": {
      "image/png": "[encoded data removed]",
      "text/plain": [
       "<Figure size 900x600 with 2 Axes>"
      ]
     },
     "metadata": {
      "needs_background": "light"
     },
     "output_type": "display_data"
    }
   ],
   "source": [
    "plt.figure(dpi=150)\n",
    "axes = plt.axes()\n",
    "cm_display = ConfusionMatrixDisplay(Confusion_Matrix, hidden_states).plot(cmap='Blues', ax = axes)"
   ]
  },
  {
   "cell_type": "code",
   "execution_count": 35,
   "metadata": {},
   "outputs": [
    {
     "data": {
      "text/plain": [
       "0.8023032629558541"
      ]
     },
     "execution_count": 35,
     "metadata": {},
     "output_type": "execute_result"
    }
   ],
   "source": [
    "Accuracy"
   ]
  },
  {
   "cell_type": "code",
   "execution_count": 36,
   "metadata": {},
   "outputs": [
    {
     "data": {
      "text/plain": [
       "0.7946336276050121"
      ]
     },
     "execution_count": 36,
     "metadata": {},
     "output_type": "execute_result"
    }
   ],
   "source": [
    "F1"
   ]
  },
  {
   "cell_type": "markdown",
   "metadata": {},
   "source": [
    "# So sánh với mô hình NaiveBayes"
   ]
  },
  {
   "cell_type": "markdown",
   "metadata": {},
   "source": [
    "## Xây dựng mô hình NaiveBayes"
   ]
  },
  {
   "cell_type": "code",
   "execution_count": 37,
   "metadata": {},
   "outputs": [],
   "source": [
    "pipeline_NBC = Pipeline([('tfidf',TfidfVectorizer(analyzer='word', ngram_range=(2, 3), max_df=0.5, min_df=3)),\n",
    "                     ('classifier',MultinomialNB(alpha=0.05))])"
   ]
  },
  {
   "cell_type": "code",
   "execution_count": 38,
   "metadata": {},
   "outputs": [
    {
     "data": {
      "text/plain": [
       "Pipeline(steps=[('tfidf',\n",
       "                 TfidfVectorizer(max_df=0.5, min_df=3, ngram_range=(2, 3))),\n",
       "                ('classifier', MultinomialNB(alpha=0.05))])"
      ]
     },
     "execution_count": 38,
     "metadata": {},
     "output_type": "execute_result"
    }
   ],
   "source": [
    "pipeline_NBC.fit(X_train, y_train)"
   ]
  },
  {
   "cell_type": "code",
   "execution_count": 39,
   "metadata": {},
   "outputs": [],
   "source": [
    "predict_y_sr_NBC = pipeline_NBC.predict(test_X_df)"
   ]
  },
  {
   "cell_type": "code",
   "execution_count": 40,
   "metadata": {},
   "outputs": [],
   "source": [
    "Confusion_Matrix_NBC = confusion_matrix(test_y_df, predict_y_sr_NBC)\n",
    "Accuracy_NBC = accuracy_score(test_y_df, predict_y_sr_NBC)\n",
    "F1_NBC = f1_score(test_y_df, predict_y_sr_NBC, average='weighted')"
   ]
  },
  {
   "cell_type": "code",
   "execution_count": 41,
   "metadata": {},
   "outputs": [
    {
     "name": "stderr",
     "output_type": "stream",
     "text": [
      "C:\\Users\\Admin\\anaconda3\\lib\\site-packages\\sklearn\\utils\\validation.py:70: FutureWarning: Pass display_labels=[0, 1, 2, 3, 4, 5] as keyword args. From version 1.0 (renaming of 0.25) passing these as positional arguments will result in an error\n",
      "  warnings.warn(f\"Pass {args_msg} as keyword args. From version \"\n"
     ]
    },
    {
     "data": {
      "image/png": "[encoded data removed]",
      "text/plain": [
       "<Figure size 900x600 with 2 Axes>"
      ]
     },
     "metadata": {
      "needs_background": "light"
     },
     "output_type": "display_data"
    }
   ],
   "source": [
    "plt.figure(dpi=150)\n",
    "axes = plt.axes()\n",
    "cm_display = ConfusionMatrixDisplay(Confusion_Matrix_NBC, hidden_states).plot(cmap='Blues', ax = axes)"
   ]
  },
  {
   "cell_type": "code",
   "execution_count": 42,
   "metadata": {},
   "outputs": [
    {
     "data": {
      "text/plain": [
       "0.8675623800383877"
      ]
     },
     "execution_count": 42,
     "metadata": {},
     "output_type": "execute_result"
    }
   ],
   "source": [
    "Accuracy_NBC"
   ]
  },
  {
   "cell_type": "code",
   "execution_count": 43,
   "metadata": {},
   "outputs": [
    {
     "data": {
      "text/plain": [
       "0.8664348724231457"
      ]
     },
     "execution_count": 43,
     "metadata": {},
     "output_type": "execute_result"
    }
   ],
   "source": [
    "F1_NBC"
   ]
  },
  {
   "cell_type": "markdown",
   "metadata": {},
   "source": [
    "## Nhận xét"
   ]
  },
  {
   "cell_type": "markdown",
   "metadata": {},
   "source": [
    "Nhìn chung, mặc dù cùng dựa vào lý thuyết xác suất làm nền tảng để xây dựng mô hình, nhưng mô hình `Hidden Markov` cho kết quả phân lớp không tốt bằng mô hình `Naive Bayes Classification`. Không những vậy, `Hidden Markov Model` được xây dựng tương đối phức tạp, đòi hỏi chi phí thời gian và bộ nhớ lớn."
   ]
  }
 ],
 "metadata": {
  "jupytext": {
   "encoding": "# -*- coding: utf-8 -*-"
  },
  "kernelspec": {
   "display_name": "Python 3",
   "language": "python",
   "name": "python3"
  },
  "language_info": {
   "codemirror_mode": {
    "name": "ipython",
    "version": 3
   },
   "file_extension": ".py",
   "mimetype": "text/x-python",
   "name": "python",
   "nbconvert_exporter": "python",
   "pygments_lexer": "ipython3",
   "version": "3.8.5"
  },
  "toc": {
   "base_numbering": 1,
   "nav_menu": {},
   "number_sections": true,
   "sideBar": true,
   "skip_h1_title": false,
   "title_cell": "Table of Contents",
   "title_sidebar": "Contents",
   "toc_cell": false,
   "toc_position": {},
   "toc_section_display": true,
   "toc_window_display": true
  }
 },
 "nbformat": 4,
 "nbformat_minor": 4
}
