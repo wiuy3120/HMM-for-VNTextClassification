{
 "cells": [
  {
   "cell_type": "code",
   "execution_count": null,
   "metadata": {},
   "outputs": [],
   "source": [
    "import requests\n",
    "from bs4 import BeautifulSoup\n",
    "import numpy as np\n",
    "import pandas as pd"
   ]
  },
  {
   "cell_type": "markdown",
   "metadata": {},
   "source": [
    "## Các bước cần chuẩn bị trước khi thu thập dữ liệu"
   ]
  },
  {
   "cell_type": "markdown",
   "metadata": {},
   "source": [
    "Lưu các ký tự đặc biệt trong tiếng Việt vào biến `list_symbols`"
   ]
  },
  {
   "cell_type": "code",
   "execution_count": null,
   "metadata": {},
   "outputs": [],
   "source": [
    "list_symbols = ['\\n']\n",
    "def get_symbols(start, end):\n",
    "    list_symbols = []\n",
    "    for i in range(start, end + 1):\n",
    "        list_symbols.append(chr(i))\n",
    "    return list_symbols\n",
    "list_symbols.extend(get_symbols(33, 47))\n",
    "list_symbols.extend(get_symbols(58, 64))\n",
    "list_symbols.extend(get_symbols(33, 47))\n",
    "list_symbols.extend(get_symbols(91, 96))\n",
    "list_symbols.extend(get_symbols(123, 126))"
   ]
  },
  {
   "cell_type": "markdown",
   "metadata": {},
   "source": [
    "Biến `subjects` lưu chủ đề của các bài báo"
   ]
  },
  {
   "cell_type": "code",
   "execution_count": null,
   "metadata": {},
   "outputs": [],
   "source": [
    "subjects = ['thoi-su','the-gioi','kinh-doanh', 'giai-tri', 'the-thao', 'giao-duc', 'suc-khoe', 'du-lich']"
   ]
  },
  {
   "cell_type": "code",
   "execution_count": null,
   "metadata": {},
   "outputs": [],
   "source": [
    "articles = dict()"
   ]
  },
  {
   "cell_type": "markdown",
   "metadata": {},
   "source": [
    "## Thu thập dữ liệu để huấn luyện"
   ]
  },
  {
   "cell_type": "markdown",
   "metadata": {},
   "source": [
    "Hàm `get_urls` ở bên dưới có các input:\n",
    "- `subject`: là một chuỗi, thể hiện chủ đề của bài báo ta muốn tìm kiếm.\n",
    "- `page`: là một số, thể hiện trang mà ta muốn lấy dữ liệu\n",
    "Output: trả về list các url của `subject` trong `page` đó.\n",
    "\n",
    "Ví dụ một đường link lấy url: https://vnexpress.net/thoi-su-p1\n",
    "\n",
    "<b>Nhưng</b> ở chủ đề `the-thao` do cấu trúc của trang web nên url sẽ thay đổi. VD: https://vnexpress.net/the-thao/p1"
   ]
  },
  {
   "cell_type": "code",
   "execution_count": null,
   "metadata": {},
   "outputs": [],
   "source": [
    "def get_urls(subject, page):\n",
    "    urls = []\n",
    "    url = f\"https://vnexpress.net/{subject}-p{page}\"\n",
    "    response = requests.get(url)\n",
    "    if response.url == 'https://vnexpress.net/error.html':\n",
    "        url = f\"https://vnexpress.net/{subject}/p{page}\"\n",
    "    response = requests.get(url)\n",
    "    html_text = response.text\n",
    "    tree = BeautifulSoup(html_text, 'html.parser')\n",
    "    titles = tree.find_all('h2', {'class': 'title-news'})\n",
    "    for i in range(len(titles)):\n",
    "        urls.append(titles[i].a[\"href\"])\n",
    "    titles = tree.find_all('h3', {'class': 'title-news'})\n",
    "    for i in range(len(titles)):\n",
    "        urls.append(titles[i].a[\"href\"])\n",
    "    return urls"
   ]
  },
  {
   "cell_type": "markdown",
   "metadata": {},
   "source": [
    "Hàm `get_data` ở bên dưới có các input:\n",
    "- `subjects`: là một list các chủ đề.\n",
    "- `num_page`: là một số, thể hiện mỗi chủ đề sẽ tìm kiếm bao nhiêu trang.\n",
    "\n",
    "Output: Trả về dictionary với key là chủ đề bài báo, value: là một list nội dung các bài báo trong chủ đề đó.\n",
    "\n",
    "Trong hàm ta sẽ xử lý một phần dữ liệu: Xóa đi các ký tự đặc biệt trong đoạn text ta thu thập được."
   ]
  },
  {
   "cell_type": "code",
   "execution_count": null,
   "metadata": {},
   "outputs": [],
   "source": [
    "def get_data(subjects, num_page = 1):\n",
    "    articles = dict()\n",
    "    for subject in subjects:\n",
    "        contents = []\n",
    "        for page in range(1, num_page + 1):\n",
    "            urls = get_urls(subject, page)\n",
    "            for url in urls:\n",
    "                r = requests.get(url)\n",
    "                if r.ok == True:\n",
    "                    html_text= r.text\n",
    "                    tree = BeautifulSoup(html_text, 'html.parser')\n",
    "                    content = tree.find('div', {'class': 'sidebar-1'})\n",
    "                    if content == None:\n",
    "                        continue\n",
    "                    header = content.find('div', {'class': 'header-content width_common'})\n",
    "                    if (header != None):\n",
    "                        header.decompose()\n",
    "                    list_news = content.find('ul', {'class': 'list-news'})\n",
    "                    if (list_news != None):\n",
    "                        list_news.decompose()\n",
    "                    footer = content.find('div', {'class': 'footer-content'})\n",
    "                    if (footer != None):\n",
    "                        footer.decompose()\n",
    "                    text = content.text\n",
    "                    for symbol in list_symbols:\n",
    "                        text = text.replace(symbol, ' ')\n",
    "                    contents.append(text)\n",
    "                else:\n",
    "                    print('False')\n",
    "                    time.sleep(1)\n",
    "        articles[subject] = contents\n",
    "    return articles"
   ]
  },
  {
   "cell_type": "code",
   "execution_count": null,
   "metadata": {},
   "outputs": [],
   "source": [
    "#Thu thập dữ liệu\n",
    "articles =  get_data(subjects, num_page = 10)"
   ]
  },
  {
   "cell_type": "markdown",
   "metadata": {},
   "source": [
    "Hàm `create_dataframe` ở bên dưới có input:\n",
    "- `articles`: là một dictionary với key là chủ đề bài báo, value: là một list nội dung các bài báo trong chủ đề đó.\n",
    "\n",
    "Output: Trả về DataFrame được tạo ra từ `articles`."
   ]
  },
  {
   "cell_type": "code",
   "execution_count": null,
   "metadata": {},
   "outputs": [],
   "source": [
    "def create_dataframe(articles):\n",
    "    data = []\n",
    "    for subject in articles:\n",
    "        temp_data = []\n",
    "        temp_data.append(articles[subject])\n",
    "        temp_data.append(subject)\n",
    "        data.append(temp_data)\n",
    "    data_df = pd.DataFrame(data, columns=['Nội dung văn bản', 'Chủ đề'])\n",
    "    data_df = data_df.explode('Nội dung văn bản', ignore_index = True)\n",
    "    return data_df\n",
    "data_df = create_dataframe(articles)\n",
    "data_df"
   ]
  },
  {
   "cell_type": "markdown",
   "metadata": {},
   "source": [
    "Lưu dữ liệu thu thập được vào file data.csv"
   ]
  },
  {
   "cell_type": "code",
   "execution_count": null,
   "metadata": {},
   "outputs": [],
   "source": [
    "data_df.to_csv('DataLink.txt')"
   ]
  },
  {
   "cell_type": "markdown",
   "metadata": {},
   "source": [
    "## Thu thập dữ liệu để test"
   ]
  },
  {
   "cell_type": "markdown",
   "metadata": {},
   "source": [
    "Để đảm bảo tính chính xác và tránh overfit ta sẽ lấy dữ liệu từ trang báo khác mà cụ thể ở đây là trang http://vietnamnet.vn để làm tập test.\n",
    "Hai hàm bên dưới sẽ tương tự như hai hàm ở trên nhưng do cấu trúc mỗi trang web là khác nhau nên ta phải thay đổi đoạn code lấy dữ liệu một chút"
   ]
  },
  {
   "cell_type": "code",
   "execution_count": null,
   "metadata": {},
   "outputs": [],
   "source": [
    "def get_urls_test(subject, num_page):\n",
    "    urls = []\n",
    "    for page in range(1, num_page + 1):\n",
    "        url = f\"https://vietnamnet.vn/vn/{subject}/trang{page}\"\n",
    "        if subject == 'du-lich':\n",
    "            url = f\"https://vietnamnet.vn/vn/doi-song/{subject}/trang{page}\"\n",
    "        response = requests.get(url)\n",
    "        html_text = response.text\n",
    "        tree = BeautifulSoup(html_text, 'html.parser')\n",
    "        titles = tree.find_all('h3')\n",
    "        for i in range(len(titles)):\n",
    "            urls.append(\"https://vietnamnet.vn/\" + titles[i].a[\"href\"])\n",
    "    return urls\n",
    "            \n",
    "def get_data_test(subjects):\n",
    "    articles = dict()\n",
    "    for subject in subjects:\n",
    "        contents = []\n",
    "        urls = get_urls_test(subject, num_page=2)\n",
    "        for url in urls:\n",
    "            r = requests.get(url)\n",
    "            if r.ok == True:\n",
    "                html_text = requests.get(url).text\n",
    "                tree = BeautifulSoup(html_text, 'html.parser')\n",
    "                content = tree.find('div', {'class': 'ArticleContent'})\n",
    "                if content == None:\n",
    "                        continue\n",
    "                list_news = content.find('div', {'class': 'article-relate'})\n",
    "                if (list_news != None):\n",
    "                    list_news.decompose()    \n",
    "\n",
    "                news = content.find('div', {'class': 'inner-article'})\n",
    "                if (list_news != None):\n",
    "                    list_news.decompose()\n",
    "                text = content.text\n",
    "                for symbol in list_symbols:\n",
    "                    text = text.replace(symbol, ' ')\n",
    "\n",
    "                contents.append(text)\n",
    "            else:\n",
    "                    print('False')\n",
    "                    time.sleep(1)\n",
    "        articles[subject] = contents\n",
    "    return articles"
   ]
  },
  {
   "cell_type": "code",
   "execution_count": null,
   "metadata": {},
   "outputs": [],
   "source": [
    "articles_test =  get_data_test(subjects)"
   ]
  },
  {
   "cell_type": "code",
   "execution_count": null,
   "metadata": {},
   "outputs": [],
   "source": [
    "data_test_df = create_dataframe(articles_test)\n",
    "data_test_df"
   ]
  },
  {
   "cell_type": "code",
   "execution_count": null,
   "metadata": {},
   "outputs": [],
   "source": [
    "data_test_df.to_csv('Test.txt')"
   ]
  }
 ],
 "metadata": {
  "jupytext": {
   "encoding": "# -*- coding: utf-8 -*-"
  },
  "kernelspec": {
   "display_name": "Python 3",
   "language": "python",
   "name": "python3"
  },
  "language_info": {
   "codemirror_mode": {
    "name": "ipython",
    "version": 3
   },
   "file_extension": ".py",
   "mimetype": "text/x-python",
   "name": "python",
   "nbconvert_exporter": "python",
   "pygments_lexer": "ipython3",
   "version": "3.8.5"
  }
 },
 "nbformat": 4,
 "nbformat_minor": 4
}
